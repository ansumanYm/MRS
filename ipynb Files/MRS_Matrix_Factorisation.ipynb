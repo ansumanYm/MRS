{
 "cells": [
  {
   "cell_type": "markdown",
   "id": "4a9828fe",
   "metadata": {},
   "source": [
    "# MRS using Matrix Factorisation Method"
   ]
  },
  {
   "cell_type": "markdown",
   "id": "70219c2c",
   "metadata": {},
   "source": [
    "We will use the above Movies Rating dataset to continue."
   ]
  },
  {
   "cell_type": "code",
   "execution_count": 4,
   "id": "6e9dbd01",
   "metadata": {},
   "outputs": [],
   "source": [
    "import pandas as pd\n",
    "import numpy as np"
   ]
  },
  {
   "cell_type": "code",
   "execution_count": 7,
   "id": "427707a4",
   "metadata": {},
   "outputs": [],
   "source": [
    "init_movies = pd.read_csv('movies.csv',usecols=['movieId', 'title'], dtype={'movieId':'int32', 'title':'str'})\n",
    "init_ratings = pd.read_csv('ratings.csv', usecols=['userId', 'movieId', 'rating'],\n",
    "                           dtype={'userId':'int32', 'movieId':'int32', 'rating':'float32'})"
   ]
  },
  {
   "cell_type": "code",
   "execution_count": 8,
   "id": "8b239f3a",
   "metadata": {},
   "outputs": [
    {
     "data": {
      "text/html": [
       "<div>\n",
       "<style scoped>\n",
       "    .dataframe tbody tr th:only-of-type {\n",
       "        vertical-align: middle;\n",
       "    }\n",
       "\n",
       "    .dataframe tbody tr th {\n",
       "        vertical-align: top;\n",
       "    }\n",
       "\n",
       "    .dataframe thead th {\n",
       "        text-align: right;\n",
       "    }\n",
       "</style>\n",
       "<table border=\"1\" class=\"dataframe\">\n",
       "  <thead>\n",
       "    <tr style=\"text-align: right;\">\n",
       "      <th></th>\n",
       "      <th>movieId</th>\n",
       "      <th>title</th>\n",
       "    </tr>\n",
       "  </thead>\n",
       "  <tbody>\n",
       "    <tr>\n",
       "      <th>0</th>\n",
       "      <td>1</td>\n",
       "      <td>Toy Story (1995)</td>\n",
       "    </tr>\n",
       "    <tr>\n",
       "      <th>1</th>\n",
       "      <td>2</td>\n",
       "      <td>Jumanji (1995)</td>\n",
       "    </tr>\n",
       "    <tr>\n",
       "      <th>2</th>\n",
       "      <td>3</td>\n",
       "      <td>Grumpier Old Men (1995)</td>\n",
       "    </tr>\n",
       "    <tr>\n",
       "      <th>3</th>\n",
       "      <td>4</td>\n",
       "      <td>Waiting to Exhale (1995)</td>\n",
       "    </tr>\n",
       "    <tr>\n",
       "      <th>4</th>\n",
       "      <td>5</td>\n",
       "      <td>Father of the Bride Part II (1995)</td>\n",
       "    </tr>\n",
       "  </tbody>\n",
       "</table>\n",
       "</div>"
      ],
      "text/plain": [
       "   movieId                               title\n",
       "0        1                    Toy Story (1995)\n",
       "1        2                      Jumanji (1995)\n",
       "2        3             Grumpier Old Men (1995)\n",
       "3        4            Waiting to Exhale (1995)\n",
       "4        5  Father of the Bride Part II (1995)"
      ]
     },
     "execution_count": 8,
     "metadata": {},
     "output_type": "execute_result"
    }
   ],
   "source": [
    "init_movies.head()"
   ]
  },
  {
   "cell_type": "code",
   "execution_count": null,
   "id": "ed21e84d",
   "metadata": {},
   "outputs": [],
   "source": []
  },
  {
   "cell_type": "markdown",
   "id": "37bad3c2",
   "metadata": {},
   "source": [
    "- We will join this two datasets"
   ]
  },
  {
   "cell_type": "code",
   "execution_count": 9,
   "id": "723c89e0",
   "metadata": {},
   "outputs": [],
   "source": [
    "movie_ratings = pd.merge(init_movies, init_ratings, on = 'movieId')"
   ]
  },
  {
   "cell_type": "code",
   "execution_count": 10,
   "id": "1d73b0c5",
   "metadata": {},
   "outputs": [
    {
     "data": {
      "text/html": [
       "<div>\n",
       "<style scoped>\n",
       "    .dataframe tbody tr th:only-of-type {\n",
       "        vertical-align: middle;\n",
       "    }\n",
       "\n",
       "    .dataframe tbody tr th {\n",
       "        vertical-align: top;\n",
       "    }\n",
       "\n",
       "    .dataframe thead th {\n",
       "        text-align: right;\n",
       "    }\n",
       "</style>\n",
       "<table border=\"1\" class=\"dataframe\">\n",
       "  <thead>\n",
       "    <tr style=\"text-align: right;\">\n",
       "      <th></th>\n",
       "      <th>movieId</th>\n",
       "      <th>title</th>\n",
       "      <th>userId</th>\n",
       "      <th>rating</th>\n",
       "    </tr>\n",
       "  </thead>\n",
       "  <tbody>\n",
       "    <tr>\n",
       "      <th>0</th>\n",
       "      <td>1</td>\n",
       "      <td>Toy Story (1995)</td>\n",
       "      <td>1</td>\n",
       "      <td>4.0</td>\n",
       "    </tr>\n",
       "    <tr>\n",
       "      <th>1</th>\n",
       "      <td>1</td>\n",
       "      <td>Toy Story (1995)</td>\n",
       "      <td>5</td>\n",
       "      <td>4.0</td>\n",
       "    </tr>\n",
       "    <tr>\n",
       "      <th>2</th>\n",
       "      <td>1</td>\n",
       "      <td>Toy Story (1995)</td>\n",
       "      <td>7</td>\n",
       "      <td>4.5</td>\n",
       "    </tr>\n",
       "    <tr>\n",
       "      <th>3</th>\n",
       "      <td>1</td>\n",
       "      <td>Toy Story (1995)</td>\n",
       "      <td>15</td>\n",
       "      <td>2.5</td>\n",
       "    </tr>\n",
       "    <tr>\n",
       "      <th>4</th>\n",
       "      <td>1</td>\n",
       "      <td>Toy Story (1995)</td>\n",
       "      <td>17</td>\n",
       "      <td>4.5</td>\n",
       "    </tr>\n",
       "  </tbody>\n",
       "</table>\n",
       "</div>"
      ],
      "text/plain": [
       "   movieId             title  userId  rating\n",
       "0        1  Toy Story (1995)       1     4.0\n",
       "1        1  Toy Story (1995)       5     4.0\n",
       "2        1  Toy Story (1995)       7     4.5\n",
       "3        1  Toy Story (1995)      15     2.5\n",
       "4        1  Toy Story (1995)      17     4.5"
      ]
     },
     "execution_count": 10,
     "metadata": {},
     "output_type": "execute_result"
    }
   ],
   "source": [
    "movie_ratings.head()"
   ]
  },
  {
   "cell_type": "code",
   "execution_count": 11,
   "id": "0d2e3f78",
   "metadata": {},
   "outputs": [
    {
     "data": {
      "text/plain": [
       "movieId    0\n",
       "title      0\n",
       "userId     0\n",
       "rating     0\n",
       "dtype: int64"
      ]
     },
     "execution_count": 11,
     "metadata": {},
     "output_type": "execute_result"
    }
   ],
   "source": [
    "movie_ratings.isna().sum()"
   ]
  },
  {
   "cell_type": "markdown",
   "id": "8d2c24c8",
   "metadata": {},
   "source": [
    "- We will use the Surprise library.\n",
    "- The name SurPRISE (roughly :) ) stands for Simple Python RecommendatIon System Engine.\n",
    "\n",
    "For more reference visit: http://surpriselib.com"
   ]
  },
  {
   "cell_type": "code",
   "execution_count": 12,
   "id": "188a5640",
   "metadata": {},
   "outputs": [],
   "source": [
    "from scipy.spatial.distance import cosine as cosine_distance\n",
    "from surprise import Reader, Dataset, SVD\n",
    "from surprise.model_selection import cross_validate, train_test_split, GridSearchCV"
   ]
  },
  {
   "cell_type": "code",
   "execution_count": 13,
   "id": "a012978e",
   "metadata": {},
   "outputs": [],
   "source": [
    "# A reader tells us the lower and upper bound of our ratings.\n",
    "# We will create a reader.\n",
    "\n",
    "reader = Reader(rating_scale=(0.5, 5))"
   ]
  },
  {
   "cell_type": "code",
   "execution_count": 14,
   "id": "5a2f7f4d",
   "metadata": {},
   "outputs": [],
   "source": [
    "# We will create a dataset instance with a DataFrame and a reader.\n",
    "# The DataFrame columns must correspond to user id, item id and ratings (in that order).\n",
    "data = Dataset.load_from_df(movie_ratings[['userId', 'movieId', 'rating']], reader)"
   ]
  },
  {
   "cell_type": "code",
   "execution_count": 15,
   "id": "ad0e7e9f",
   "metadata": {},
   "outputs": [
    {
     "name": "stdout",
     "output_type": "stream",
     "text": [
      "0.8679266587858296\n",
      "{'n_epochs': 20, 'lr_all': 0.01, 'reg_all': 0.1}\n"
     ]
    }
   ],
   "source": [
    "param_grid = {'n_epochs': [5, 10, 20], 'lr_all': [0.002, 0.005, 0.01],\n",
    "              'reg_all': [0.02, 0.1, 0.4]}\n",
    "gs = GridSearchCV(SVD, param_grid, measures=['rmse'], cv=3)\n",
    "\n",
    "gs.fit(data)\n",
    "\n",
    "# best RMSE score\n",
    "print(gs.best_score['rmse'])\n",
    "\n",
    "# combination of parameters that gave the best RMSE score\n",
    "print(gs.best_params['rmse'])"
   ]
  },
  {
   "cell_type": "code",
   "execution_count": 16,
   "id": "b5319ed6",
   "metadata": {},
   "outputs": [],
   "source": [
    "model = SVD(n_epochs = 20, lr_all= 0.01, reg_all= 0.1)"
   ]
  },
  {
   "cell_type": "code",
   "execution_count": 17,
   "id": "8a9ad465",
   "metadata": {},
   "outputs": [
    {
     "data": {
      "text/plain": [
       "<surprise.prediction_algorithms.matrix_factorization.SVD at 0x1f5b69d5a90>"
      ]
     },
     "execution_count": 17,
     "metadata": {},
     "output_type": "execute_result"
    }
   ],
   "source": [
    "# We will fit the whole dataset. We will not split using train_test_split\n",
    "trainset = data.build_full_trainset()\n",
    "model.fit(trainset)"
   ]
  },
  {
   "cell_type": "code",
   "execution_count": 18,
   "id": "38c00253",
   "metadata": {},
   "outputs": [
    {
     "data": {
      "text/plain": [
       "Prediction(uid=15, iid=193581, r_ui=None, est=3.1738409184206007, details={'was_impossible': False})"
      ]
     },
     "execution_count": 18,
     "metadata": {},
     "output_type": "execute_result"
    }
   ],
   "source": [
    "model.predict(uid=15, iid=193581)"
   ]
  },
  {
   "cell_type": "code",
   "execution_count": 19,
   "id": "842e17bd",
   "metadata": {},
   "outputs": [],
   "source": [
    "selected_movie = 'Flint (2017)'"
   ]
  },
  {
   "cell_type": "code",
   "execution_count": 20,
   "id": "27aeca4e",
   "metadata": {},
   "outputs": [],
   "source": [
    "def get_movie_id(selected_movie, df):\n",
    "    \"\"\"\n",
    "    Gets the book ID for a book title from the movie_rating dataset.\n",
    "    \"\"\"\n",
    "\n",
    "    movie_id = movie_ratings[movie_ratings['title'] == selected_movie]['movieId'].values[0]\n",
    "    return movie_id"
   ]
  },
  {
   "cell_type": "code",
   "execution_count": 21,
   "id": "14b53313",
   "metadata": {},
   "outputs": [
    {
     "data": {
      "text/plain": [
       "193585"
      ]
     },
     "execution_count": 21,
     "metadata": {},
     "output_type": "execute_result"
    }
   ],
   "source": [
    "get_movie_id(selected_movie, movie_ratings)"
   ]
  },
  {
   "cell_type": "markdown",
   "id": "cef2746e",
   "metadata": {},
   "source": [
    "By using _raw2inner_id_items we can se that the surprise matrix factorisation maps the 'movieId' to iid.\n",
    "The index number changes, so we will map it by using `item_to_row_idx` function"
   ]
  },
  {
   "cell_type": "code",
   "execution_count": 22,
   "id": "330f7957",
   "metadata": {},
   "outputs": [],
   "source": [
    "# model.trainset._raw2inner_id_items "
   ]
  },
  {
   "cell_type": "code",
   "execution_count": 23,
   "id": "540bfb12",
   "metadata": {},
   "outputs": [],
   "source": [
    "def get_iid(movie_id):\n",
    "    d = model.trainset._raw2inner_id_items\n",
    "\n",
    "    for acc_idx,mapped_idx in d.items():\n",
    "        if acc_idx == movie_id:\n",
    "            return mapped_idx"
   ]
  },
  {
   "cell_type": "code",
   "execution_count": 24,
   "id": "0d094b72",
   "metadata": {},
   "outputs": [
    {
     "data": {
      "text/plain": [
       "9721"
      ]
     },
     "execution_count": 24,
     "metadata": {},
     "output_type": "execute_result"
    }
   ],
   "source": [
    "get_iid(get_movie_id(selected_movie, movie_ratings))"
   ]
  },
  {
   "cell_type": "code",
   "execution_count": 25,
   "id": "50e54ff5",
   "metadata": {},
   "outputs": [],
   "source": [
    "#pred_vectors = model.qi[get_iid(get_movie_id(selected_movie, movie_ratings))]"
   ]
  },
  {
   "cell_type": "code",
   "execution_count": 26,
   "id": "7f0b8396",
   "metadata": {},
   "outputs": [],
   "source": [
    "def get_similar_movies(selected_movie):\n",
    "    \n",
    "    # Get the selected movie vector\n",
    "    mov_vec = model.qi[get_iid(get_movie_id(selected_movie, movie_ratings))]\n",
    "    similarity_table = []\n",
    "    \n",
    "    # Iterate over every possible movie and calculate similarity\n",
    "    for other_movie_idx in model.trainset._raw2inner_id_items.keys():\n",
    "        other_movie_vector = model.qi[get_iid(other_movie_idx)]\n",
    "        \n",
    "        # Get the second movie vector, and calculate distance\n",
    "        similarity_score = cosine_distance(other_movie_vector, mov_vec)\n",
    "        similarity_table.append((similarity_score, other_movie_idx))\n",
    "    \n",
    "    final_lst = sorted(similarity_table)\n",
    "    final_lst[1:11]\n",
    "    df = pd.DataFrame(final_lst[1:11], columns=['Similarity_Distance', 'movieId'])\n",
    "    df_reccom = df.merge(movie_ratings, how = 'inner', on = 'movieId')\n",
    "    out = df_reccom.drop_duplicates(subset='title', ignore_index=True).drop(columns=['userId', 'rating'])\n",
    "    \n",
    "    # sort movies by ascending similarity\n",
    "    return out"
   ]
  },
  {
   "cell_type": "code",
   "execution_count": 27,
   "id": "fd62545c",
   "metadata": {},
   "outputs": [
    {
     "data": {
      "text/html": [
       "<div>\n",
       "<style scoped>\n",
       "    .dataframe tbody tr th:only-of-type {\n",
       "        vertical-align: middle;\n",
       "    }\n",
       "\n",
       "    .dataframe tbody tr th {\n",
       "        vertical-align: top;\n",
       "    }\n",
       "\n",
       "    .dataframe thead th {\n",
       "        text-align: right;\n",
       "    }\n",
       "</style>\n",
       "<table border=\"1\" class=\"dataframe\">\n",
       "  <thead>\n",
       "    <tr style=\"text-align: right;\">\n",
       "      <th></th>\n",
       "      <th>Similarity_Distance</th>\n",
       "      <th>movieId</th>\n",
       "      <th>title</th>\n",
       "    </tr>\n",
       "  </thead>\n",
       "  <tbody>\n",
       "    <tr>\n",
       "      <th>0</th>\n",
       "      <td>0.604924</td>\n",
       "      <td>108188</td>\n",
       "      <td>Jack Ryan: Shadow Recruit (2014)</td>\n",
       "    </tr>\n",
       "    <tr>\n",
       "      <th>1</th>\n",
       "      <td>0.660004</td>\n",
       "      <td>188797</td>\n",
       "      <td>Tag (2018)</td>\n",
       "    </tr>\n",
       "    <tr>\n",
       "      <th>2</th>\n",
       "      <td>0.664168</td>\n",
       "      <td>5059</td>\n",
       "      <td>Little Dieter Needs to Fly (1997)</td>\n",
       "    </tr>\n",
       "    <tr>\n",
       "      <th>3</th>\n",
       "      <td>0.664747</td>\n",
       "      <td>4626</td>\n",
       "      <td>Miracle Mile (1989)</td>\n",
       "    </tr>\n",
       "    <tr>\n",
       "      <th>4</th>\n",
       "      <td>0.675262</td>\n",
       "      <td>4103</td>\n",
       "      <td>Empire of the Sun (1987)</td>\n",
       "    </tr>\n",
       "    <tr>\n",
       "      <th>5</th>\n",
       "      <td>0.676682</td>\n",
       "      <td>65631</td>\n",
       "      <td>Battle in Seattle (2007)</td>\n",
       "    </tr>\n",
       "    <tr>\n",
       "      <th>6</th>\n",
       "      <td>0.679269</td>\n",
       "      <td>5500</td>\n",
       "      <td>Top Secret! (1984)</td>\n",
       "    </tr>\n",
       "    <tr>\n",
       "      <th>7</th>\n",
       "      <td>0.685276</td>\n",
       "      <td>155774</td>\n",
       "      <td>Neon Bull (2015)</td>\n",
       "    </tr>\n",
       "    <tr>\n",
       "      <th>8</th>\n",
       "      <td>0.686651</td>\n",
       "      <td>8784</td>\n",
       "      <td>Garden State (2004)</td>\n",
       "    </tr>\n",
       "    <tr>\n",
       "      <th>9</th>\n",
       "      <td>0.690963</td>\n",
       "      <td>68237</td>\n",
       "      <td>Moon (2009)</td>\n",
       "    </tr>\n",
       "  </tbody>\n",
       "</table>\n",
       "</div>"
      ],
      "text/plain": [
       "   Similarity_Distance  movieId                              title\n",
       "0             0.604924   108188   Jack Ryan: Shadow Recruit (2014)\n",
       "1             0.660004   188797                         Tag (2018)\n",
       "2             0.664168     5059  Little Dieter Needs to Fly (1997)\n",
       "3             0.664747     4626                Miracle Mile (1989)\n",
       "4             0.675262     4103           Empire of the Sun (1987)\n",
       "5             0.676682    65631           Battle in Seattle (2007)\n",
       "6             0.679269     5500                 Top Secret! (1984)\n",
       "7             0.685276   155774                   Neon Bull (2015)\n",
       "8             0.686651     8784                Garden State (2004)\n",
       "9             0.690963    68237                        Moon (2009)"
      ]
     },
     "execution_count": 27,
     "metadata": {},
     "output_type": "execute_result"
    }
   ],
   "source": [
    "get_similar_movies(selected_movie)"
   ]
  },
  {
   "cell_type": "markdown",
   "id": "b01f9b60",
   "metadata": {},
   "source": [
    "For further reference:\n",
    "- https://towardsdatascience.com/how-you-can-build-simple-recommender-systems-with-surprise-b0d32a8e4802\n",
    "- https://towardsdatascience.com/various-implementations-of-collaborative-filtering-100385c6dfe0\n",
    "- https://analyticsindiamag.com/a-guide-to-surprise-python-tool-for-recommender-systems/\n",
    "- https://surprise.readthedocs.io/en/stable/getting_started.html#\n",
    "    "
   ]
  },
  {
   "cell_type": "code",
   "execution_count": null,
   "id": "1ac66ddd",
   "metadata": {},
   "outputs": [],
   "source": []
  }
 ],
 "metadata": {
  "kernelspec": {
   "display_name": "Python 3 (ipykernel)",
   "language": "python",
   "name": "python3"
  },
  "language_info": {
   "codemirror_mode": {
    "name": "ipython",
    "version": 3
   },
   "file_extension": ".py",
   "mimetype": "text/x-python",
   "name": "python",
   "nbconvert_exporter": "python",
   "pygments_lexer": "ipython3",
   "version": "3.8.8"
  }
 },
 "nbformat": 4,
 "nbformat_minor": 5
}
